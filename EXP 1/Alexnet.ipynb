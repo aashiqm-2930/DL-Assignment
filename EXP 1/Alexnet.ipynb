{
  "nbformat": 4,
  "nbformat_minor": 0,
  "metadata": {
    "colab": {
      "provenance": []
    },
    "kernelspec": {
      "name": "python3",
      "display_name": "Python 3"
    },
    "language_info": {
      "name": "python"
    }
  },
  "cells": [
    {
      "cell_type": "markdown",
      "source": [
        "**AlexNet Architecture**"
      ],
      "metadata": {
        "id": "G4e7yyurk5im"
      }
    },
    {
      "cell_type": "markdown",
      "source": [
        "**Importing the modules**"
      ],
      "metadata": {
        "id": "xhexOHWZlnWy"
      }
    },
    {
      "cell_type": "code",
      "source": [
        "import torch\n",
        "import torch.nn as nn\n",
        "import matplotlib.pyplot as plt"
      ],
      "metadata": {
        "id": "CoIm898vl1Yg"
      },
      "execution_count": 2,
      "outputs": []
    },
    {
      "cell_type": "markdown",
      "source": [
        "**Define the model**"
      ],
      "metadata": {
        "id": "fGZbyKJJloRs"
      }
    },
    {
      "cell_type": "code",
      "execution_count": 3,
      "metadata": {
        "id": "654neGvPjzqx"
      },
      "outputs": [],
      "source": [
        "class AlexNet(nn.Module):\n",
        "    def __init__(self, in_channels, num_classes):\n",
        "        super(AlexNet, self).__init__()\n",
        "        # Convolutional layers\n",
        "        self.conv1 = nn.Conv2d(in_channels, 96, kernel_size=11, stride=4, padding=2)\n",
        "        self.conv2 = nn.Conv2d(96, 256, kernel_size=5, stride=1, padding=2)\n",
        "        self.conv3 = nn.Conv2d(256, 384, kernel_size=3, stride=1, padding=1)\n",
        "        self.conv4 = nn.Conv2d(384, 384, kernel_size=3, stride=1, padding=1)\n",
        "        self.conv5 = nn.Conv2d(384, 256, kernel_size=3, stride=1, padding=1)\n",
        "\n",
        "        # Fully connected layers\n",
        "        self.fc1 = nn.Linear(256 * 6 * 6, 4069)\n",
        "        self.fc2 = nn.Linear(4069, 4069)\n",
        "        self.fc3 = nn.Linear(4069, num_classes)\n",
        "\n",
        "        # Other\n",
        "        self.flatten = nn.Flatten()\n",
        "        self.maxpool = nn.MaxPool2d(kernel_size=3, stride=2)\n",
        "        self.norm = nn.LocalResponseNorm(size=5, k=2)\n",
        "        self.droput = nn.Dropout(0.5)\n",
        "        self.relu = nn.ReLU()\n",
        "\n",
        "        # Initialize the weights\n",
        "        self._init_weights()\n",
        "\n",
        "    def forward(self, x):\n",
        "        x = self.maxpool(self.norm(self.relu(self.conv1(x))))  # (B, 96, 27, 27)\n",
        "        x = self.maxpool(self.norm(self.relu(self.conv2(x))))  # (B, 256, 13, 13)\n",
        "        x = self.relu(self.conv3(x))                           # (B, 384, 13, 13)\n",
        "        x = self.relu(self.conv4(x))                           # (B, 384, 13, 13)\n",
        "        x = self.maxpool(self.relu(self.conv5(x)))             # (B, 256, 6, 6)\n",
        "        x = self.flatten(x)                                    # (B, 9216)\n",
        "        x = self.droput(self.relu(self.fc1(x)))                # (B, 4096)\n",
        "        x = self.droput(self.relu(self.fc2(x)))                # (B, 4096)\n",
        "        x = self.fc3(x)                                        # (B, num_classes)\n",
        "        return x\n",
        "\n",
        "    def _init_weights(self):\n",
        "        bias_1 = [1, 3, 4, 5, 6, 7] # Layers with bias initialized with 1\n",
        "\n",
        "        for i, layer in enumerate(self.modules()):\n",
        "            if isinstance(layer, nn.Conv2d) or isinstance(layer, nn.Linear):\n",
        "                if i in bias_1:\n",
        "                    # Initialize bias with 1\n",
        "                    nn.init.constant_(layer.bias, 1)\n",
        "                else:\n",
        "                    # Initialize bias with 0\n",
        "                    nn.init.constant_(layer.bias, 0)\n",
        "\n",
        "                # Initialize the weights from a zero-mean Gaussian\n",
        "                # distributition with std=0.01\n",
        "                nn.init.normal_(layer.weight, mean=0, std=0.01)"
      ]
    },
    {
      "cell_type": "markdown",
      "source": [
        "**Training the model and displaying the size of the model**"
      ],
      "metadata": {
        "id": "PZLeunZGmBG6"
      }
    },
    {
      "cell_type": "code",
      "source": [
        "x = torch.randn(64, 3, 227, 227)\n",
        "model = AlexNet(x.shape[1], 1000)\n",
        "print(model(x).shape)"
      ],
      "metadata": {
        "colab": {
          "base_uri": "https://localhost:8080/"
        },
        "id": "SVAhKyKxl_a6",
        "outputId": "6229348c-1015-4def-ead6-32e96681fd89"
      },
      "execution_count": 4,
      "outputs": [
        {
          "output_type": "stream",
          "name": "stdout",
          "text": [
            "torch.Size([64, 1000])\n"
          ]
        }
      ]
    },
    {
      "cell_type": "markdown",
      "source": [
        "**AlexNet**"
      ],
      "metadata": {
        "id": "T3U0JZBsk269"
      }
    },
    {
      "cell_type": "markdown",
      "source": [
        "![AlexNet.png](data:image/png;base64,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)"
      ],
      "metadata": {
        "id": "SZ536H6vlSHg"
      }
    }
  ]
}